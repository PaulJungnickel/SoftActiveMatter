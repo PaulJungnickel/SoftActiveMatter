{
 "cells": [
  {
   "cell_type": "code",
   "execution_count": null,
   "metadata": {},
   "outputs": [],
   "source": [
    "import numpy as np\n",
    "import matplotlib.pyplot as plt\n",
    "from scipy.integrate import solve_ivp\n",
    "from numba import njit, jit"
   ]
  },
  {
   "cell_type": "code",
   "execution_count": null,
   "metadata": {},
   "outputs": [],
   "source": [
    "d=2\n",
    "\n",
    "N=4\n",
    "sigma = 0\n",
    "k = 10\n",
    "noise_scale =0.001\n",
    "\n",
    "\n",
    "t_max = 100\n",
    "time_steps = 10 +1\n",
    "\n",
    "t, dt = np.linspace(0,t_max, time_steps,retstep=True)\n",
    "\n",
    "\n",
    "\n",
    "\n",
    "def f(t, y):\n",
    "    r = y[:d*N].reshape([-1,d])\n",
    "    print(t)\n",
    "    print(r)\n",
    "    v = y[d*N:].reshape([-1,d])\n",
    "    eta = np.random.normal(0,noise_scale,size=[N*d]).reshape([N,d])\n",
    "    dv = -sigma*v + k*(np.roll(r, 1, axis=0) + np.roll(r, -1, axis=0) - 2*r) + eta\n",
    "    \n",
    "    dv[0] = -sigma*v[0] + k*(r[1] - r[0]) + eta[0]\n",
    "    dv[-1] = -sigma*v[-1] + k*(r[-2] - r[-1]) + eta[-1]\n",
    "\n",
    "    dr = v\n",
    "    dy = np.stack((dr,dv)).flatten()\n",
    "    print(dy)\n",
    "    return dy\n",
    "\n",
    "\n",
    "\n",
    "y0 = np.zeros([2*N*d])\n",
    "\n",
    "x0 = np.linspace(0,1,N)\n",
    "for i in range(0,N):\n",
    "    y0[i*d] = x0[i]\n",
    "print(y0)\n",
    "sol = solve_ivp(f, (0,t_max), y0, t_eval=t)\n",
    "\n",
    "y = sol.y.T\n",
    "\n",
    "print(y.shape)\n",
    "r = y[:, :d*N].reshape([time_steps, -1,d])\n",
    "v = y[:, d*N:].reshape([time_steps, -1,d])\n",
    "for t in range(time_steps):\n",
    "    plt.scatter(r[t,:,0], r[t,:,1])\n",
    "    plt.show()\n",
    "print(sol)\n",
    "\n"
   ]
  }
 ],
 "metadata": {
  "kernelspec": {
   "display_name": "introcls",
   "language": "python",
   "name": "python3"
  },
  "language_info": {
   "codemirror_mode": {
    "name": "ipython",
    "version": 3
   },
   "file_extension": ".py",
   "mimetype": "text/x-python",
   "name": "python",
   "nbconvert_exporter": "python",
   "pygments_lexer": "ipython3",
   "version": "3.12.5"
  }
 },
 "nbformat": 4,
 "nbformat_minor": 2
}
