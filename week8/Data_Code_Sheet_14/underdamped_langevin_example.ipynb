{
 "cells": [
  {
   "cell_type": "markdown",
   "id": "d0b76d478a4179b0",
   "metadata": {},
   "source": [
    "# Underdamped Langevin Diffusion simulation\n",
    "\n",
    "The Underdamped Langevin diffusion (ULD) is an SDE of the form:\n",
    "\n",
    "\\begin{align*}\n",
    "    \\mathrm{d} x(t) &= v(t) \\, \\mathrm{d}t \\\\\n",
    "    \\mathrm{d} v(t) &= - \\gamma \\, v(t) \\, \\mathrm{d}t - u \\,\n",
    "    \\nabla \\! f( x(t) ) \\, \\mathrm{d}t + \\sqrt{2 \\gamma u} \\, \\mathrm{d} w(t),\n",
    "\\end{align*}\n",
    "\n",
    "where $x(t), v(t) \\in \\mathbb{R}^d$ represent the position\n",
    "and velocity, $w$ is a Brownian motion in $\\mathbb{R}^d$,\n",
    "$f: \\mathbb{R}^d \\rightarrow \\mathbb{R}$ is a potential function, and\n",
    "$\\gamma , u \\in \\mathbb{R}^{d \\times d}$ are diagonal matrices governing\n",
    "the friction and the damping of the system.\n",
    "\n",
    "## ULD for Monte Carlo and Bayesian inference\n",
    "\n",
    "ULD is commonly used in Monte Carlo applications since it allows us to sample from its stationary distribution $p = \\frac{\\exp(-f)}{C}$ even when its normalising constant $C = \\int p(x) dx$ is unknown. This is because only knowledge of $\\nabla f$ is required, which doesn't depend on $C$. For an example of such an application see section 5.2 of the paper on [Single-seed generation of Brownian paths](https://arxiv.org/abs/2405.06464).\n",
    "\n",
    "## ULD solvers in Diffrax\n",
    "\n",
    "In addition to generic SDE solvers (which can solve any SDE including ULD), Diffrax has some solvers designed specifically for ULD. These are `diffrax.ALIGN` which has a 2nd order of strong convergence, and `diffrax.QUICSORT` and `diffrax.ShOULD` which are 3rd order solvers. Note that unlike ODE solvers which can have orders of 5 or even higher, very few types of SDEs permit solvers with a strong order greater than $\\frac{1}{2}$.\n",
    "\n",
    "These ULD-specific solvers only accept terms of the form `MultiTerm(UnderdampedLangevinDriftTerm(gamma, u, grad_f), UnderdampedLangevinDiffusionTerm(gamma, u, bm))`.\n",
    "\n",
    "## A 2D harmonic oscillator\n",
    "\n",
    "In this example we will simulate a simple harmonic oscillator in 2 dimensions. This system is given by the potential $f(x) = x^2$."
   ]
  },
  {
   "cell_type": "code",
   "execution_count": null,
   "id": "9deba250066ddc39",
   "metadata": {
    "ExecuteTime": {
     "end_time": "2024-09-01T17:24:08.608664Z",
     "start_time": "2024-09-01T17:24:06.215228Z"
    }
   },
   "outputs": [],
   "source": [
    "from warnings import simplefilter\n",
    "\n",
    "\n",
    "simplefilter(action=\"ignore\", category=FutureWarning)\n",
    "import diffrax\n",
    "import jax.numpy as jnp\n",
    "import jax.random as jr\n",
    "import matplotlib.pyplot as plt\n",
    "\n",
    "\n",
    "t0, t1 = 0.0, 20.0\n",
    "dt0 = 0.05\n",
    "saveat = diffrax.SaveAt(steps=True)\n",
    "\n",
    "# Parameters\n",
    "gamma = jnp.array([2, 0.5], dtype=jnp.float32)\n",
    "u = jnp.array([0.5, 2], dtype=jnp.float32)\n",
    "x0 = jnp.zeros((2,), dtype=jnp.float32)\n",
    "v0 = jnp.zeros((2,), dtype=jnp.float32)\n",
    "y0 = (x0, v0)\n",
    "\n",
    "# Brownian motion\n",
    "bm = diffrax.VirtualBrownianTree(\n",
    "    t0, t1, tol=0.01, shape=(2,), key=jr.key(0), levy_area=diffrax.SpaceTimeTimeLevyArea\n",
    ")\n",
    "def f(x, args):\n",
    "    return 2*x\n",
    "drift_term = diffrax.UnderdampedLangevinDriftTerm(gamma, u, f)\n",
    "diffusion_term = diffrax.UnderdampedLangevinDiffusionTerm(gamma, u, bm)\n",
    "terms = diffrax.MultiTerm(drift_term, diffusion_term)\n",
    "\n",
    "solver = diffrax.QUICSORT(100.0)\n",
    "sol = diffrax.diffeqsolve(\n",
    "    terms, solver, t0, t1, dt0=dt0, y0=y0, args=None, saveat=saveat\n",
    ")\n",
    "xs, vs = sol.ys"
   ]
  },
  {
   "cell_type": "code",
   "execution_count": null,
   "id": "62da2ddbaaf98f47",
   "metadata": {
    "ExecuteTime": {
     "end_time": "2024-09-01T17:23:09.939787Z",
     "start_time": "2024-09-01T17:23:09.786782Z"
    }
   },
   "outputs": [],
   "source": [
    "# Plot the trajectory against time and velocity against time in a separate plot\n",
    "fig, axs = plt.subplots(2, 1, figsize=(10, 10))\n",
    "axs[0].plot(sol.ts, xs[:, 0], label=\"x1\")\n",
    "axs[0].plot(sol.ts, xs[:, 1], label=\"x2\")\n",
    "axs[0].set_xlabel(\"Time\")\n",
    "axs[0].set_ylabel(\"Position\")\n",
    "axs[0].legend()\n",
    "axs[0].grid()\n",
    "\n",
    "axs[1].plot(sol.ts, vs[:, 0], label=\"v1\")\n",
    "axs[1].plot(sol.ts, vs[:, 1], label=\"v2\")\n",
    "axs[1].set_xlabel(\"Time\")\n",
    "axs[1].set_ylabel(\"Velocity\")\n",
    "axs[1].legend()\n",
    "axs[1].grid()\n",
    "\n",
    "plt.show()"
   ]
  }
 ],
 "metadata": {
  "kernelspec": {
   "display_name": "introcls",
   "language": "python",
   "name": "python3"
  },
  "language_info": {
   "codemirror_mode": {
    "name": "ipython",
    "version": 3
   },
   "file_extension": ".py",
   "mimetype": "text/x-python",
   "name": "python",
   "nbconvert_exporter": "python",
   "pygments_lexer": "ipython3",
   "version": "3.12.5"
  }
 },
 "nbformat": 4,
 "nbformat_minor": 5
}
