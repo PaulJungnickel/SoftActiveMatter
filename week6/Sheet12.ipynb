{
 "cells": [
  {
   "cell_type": "markdown",
   "metadata": {},
   "source": [
    "# Sheet12  "
   ]
  },
  {
   "cell_type": "code",
   "execution_count": 120,
   "metadata": {},
   "outputs": [],
   "source": [
    "import numpy as np\n",
    "import matplotlib.pyplot as plt\n",
    "from scipy.integrate import solve_ivp\n",
    "from numba import njit, jit"
   ]
  },
  {
   "cell_type": "code",
   "execution_count": 146,
   "metadata": {},
   "outputs": [
    {
     "name": "stdout",
     "output_type": "stream",
     "text": [
      "1.000001000001e-06 0.0025 1000000000.0\n",
      "0.6400006400006399\n",
      ".\n"
     ]
    },
    {
     "data": {
      "image/png": "[encoded data removed]",
      "text/plain": [
       "<Figure size 640x480 with 1 Axes>"
      ]
     },
     "metadata": {},
     "output_type": "display_data"
    }
   ],
   "source": [
    "np.random.seed(42)\n",
    "num_runs = 1\n",
    "# Ls = [1,2,3,4]\n",
    "Ls = [1]\n",
    "for L in Ls:\n",
    "    # L = 1\n",
    "    t_max = 1\n",
    "    v = 1\n",
    "    D=  1e9\n",
    "    N = 400 + 1\n",
    "    dt = 1e-6\n",
    "    time_steps = int(t_max/dt)\n",
    "    # time_steps = 10000 +1\n",
    "\n",
    "    t, dt = np.linspace(0,t_max, time_steps,retstep=True)\n",
    "    x, dx = np.linspace(0,L,N,retstep=True)\n",
    "\n",
    "    noise_scale = D\n",
    "\n",
    "    print(dt, dx, noise_scale)\n",
    "    print(4*dt*v/dx**2)\n",
    "    w_mean = np.zeros([time_steps])\n",
    "    for n in range(num_runs):\n",
    "        h = np.zeros([time_steps, N])\n",
    "        # h[0] = np.sin(50*x) + np.sin(20*x)\n",
    "        h[0] = np.random.uniform(0,5,size=[N])\n",
    "\n",
    "            \n",
    "        for ti in range (time_steps-1):\n",
    "            eta = np.random.normal(0,noise_scale,size=[N])\n",
    "            for xi in range(N):\n",
    "                h[ti+1, xi%N] = h[ti, xi%N] + dt* (v/(dx**2) * (h[ti, (xi+1)%N] + h[ti, (xi-1)%N] -2* h[ti, xi%N]) + eta[xi%N])\n",
    "        \n",
    "        w_mean += np.std(h, axis=1)\n",
    "        print('.')\n",
    "    \n",
    "    # plt.imshow(h[::100,:], origin='lower')\n",
    "    # plt.ylabel('t')\n",
    "    # plt.xlabel('x')\n",
    "    # # plt.colorbar()\n",
    "    # plt.show()\n",
    "\n",
    "    # for ti in range(0,time_steps,time_steps//10):\n",
    "    #     plt.plot(x, h[ti])\n",
    "    # plt.show()\n",
    "\n",
    "    # w = np.std(h, axis=1)\n",
    "    w_mean = w_mean / num_runs\n",
    "    plt.plot(t, w_mean, label=L)\n",
    "    \n",
    "    \n",
    "plt.xlabel('t')\n",
    "plt.ylabel('$w$')\n",
    "plt.ylim([50, 3000])\n",
    "plt.loglog()\n",
    "plt.legend(title='L')\n",
    "plt.savefig('a.png', dpi=600)\n"
   ]
  },
  {
   "cell_type": "code",
   "execution_count": null,
   "metadata": {},
   "outputs": [],
   "source": [
    "L = 1\n",
    "t_max = 1\n",
    "v = 1e-3\n",
    "D=  1e6\n",
    "N = 100 + 1\n",
    "time_steps = 10000 +1\n",
    "\n",
    "t, dt = np.linspace(0,t_max, time_steps,retstep=True)\n",
    "x, dx = np.linspace(0,L,N,retstep=True)\n",
    "\n",
    "noise_scale = D*np.sqrt(2*dt)\n",
    "print(dt, dx, noise_scale)\n",
    "\n",
    "\n",
    "print(4*dt*v/dx**2)\n",
    "\n",
    "# h = np.zeros([time_steps, N])\n",
    "# h[0] = np.sin(50*x) + np.sin(20*x)\n",
    "h0 = np.random.uniform(0,5,size=[N])\n",
    "\n",
    "def f(t, y):\n",
    "    eta = np.random.normal(0,noise_scale,size=[N])\n",
    "    return v/(dx**2) *(np.roll(y, 1) + np.roll(y,-1) -2* y) + eta\n",
    "\n",
    "sol = solve_ivp(f, (0,t_max), h0, t_eval=t)\n",
    "\n",
    "print(sol.y)\n",
    "\n",
    "\n",
    "plt.imshow(h[::100,:], origin='lower',extent=[0,L,0,1])\n",
    "plt.ylabel('t')\n",
    "plt.xlabel('x')\n",
    "# plt.colorbar()\n",
    "plt.show()\n",
    "\n",
    "for ti in range(0,time_steps,time_steps//10):\n",
    "    plt.plot(x, h[ti])\n",
    "plt.show()\n",
    "\n",
    "w = np.std(h, axis=1)\n",
    "plt.plot(t, w)\n",
    "plt.xlabel('t')\n",
    "plt.ylabel('$w^2$')\n",
    "plt.loglog()\n"
   ]
  }
 ],
 "metadata": {
  "kernelspec": {
   "display_name": "introcls",
   "language": "python",
   "name": "python3"
  },
  "language_info": {
   "codemirror_mode": {
    "name": "ipython",
    "version": 3
   },
   "file_extension": ".py",
   "mimetype": "text/x-python",
   "name": "python",
   "nbconvert_exporter": "python",
   "pygments_lexer": "ipython3",
   "version": "3.12.5"
  }
 },
 "nbformat": 4,
 "nbformat_minor": 2
}
